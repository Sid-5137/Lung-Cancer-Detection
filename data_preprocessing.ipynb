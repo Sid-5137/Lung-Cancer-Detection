{
 "cells": [
  {
   "cell_type": "code",
   "execution_count": 2,
   "metadata": {},
   "outputs": [
    {
     "name": "stdout",
     "output_type": "stream",
     "text": [
      "Processing 120 images in folder: Bengin cases\n",
      "Processing 561 images in folder: Malignant cases\n",
      "Processing 416 images in folder: Normal cases\n",
      "Data preprocessing and augmentation complete.\n"
     ]
    }
   ],
   "source": [
    "import os\n",
    "import numpy as np\n",
    "from tensorflow.keras.preprocessing.image import ImageDataGenerator, img_to_array, load_img, array_to_img, save_img\n",
    "from sklearn.model_selection import train_test_split\n",
    "import glob\n",
    "\n",
    "# Set directory paths and target size\n",
    "base_dir = 'CT_Scans'\n",
    "folders = ['Bengin cases', 'Malignant cases', 'Normal cases']\n",
    "target_size = (224, 224)\n",
    "output_dir = 'data'\n",
    "\n",
    "# Ensure output directories exist\n",
    "for split in ['train', 'val', 'test']:\n",
    "    for folder in folders:\n",
    "        os.makedirs(os.path.join(output_dir, split, folder), exist_ok=True)\n",
    "\n",
    "# Initialize data augmentation\n",
    "datagen = ImageDataGenerator(\n",
    "    rotation_range=20,\n",
    "    width_shift_range=0.1,\n",
    "    height_shift_range=0.1,\n",
    "    shear_range=0.1,\n",
    "    zoom_range=0.1,\n",
    "    horizontal_flip=True,\n",
    "    fill_mode='nearest'\n",
    ")\n",
    "\n",
    "# Function to preprocess and save images\n",
    "def preprocess_and_save_image(image_path, save_dir, augment=True):\n",
    "    try:\n",
    "        img = load_img(image_path, target_size=target_size)\n",
    "        img_array = img_to_array(img)\n",
    "        img_array = np.expand_dims(img_array, 0)  # Add batch dimension\n",
    "\n",
    "        if augment:\n",
    "            for i, batch in enumerate(datagen.flow(img_array, batch_size=1)):\n",
    "                aug_img = array_to_img(batch[0], scale=True)\n",
    "                save_path = os.path.join(save_dir, f\"{os.path.splitext(os.path.basename(image_path))[0]}_aug_{i}.jpg\")\n",
    "                save_img(save_path, aug_img)\n",
    "                if i >= 4:  # Save 5 augmented images per original image\n",
    "                    break\n",
    "        else:\n",
    "            # Save original resized image if augmentation is disabled\n",
    "            save_path = os.path.join(save_dir, os.path.basename(image_path))\n",
    "            save_img(save_path, img)\n",
    "    except Exception as e:\n",
    "        print(f\"Error processing {image_path}: {e}\")\n",
    "\n",
    "# Process dataset with checks\n",
    "for folder in folders:\n",
    "    images = glob.glob(os.path.join(base_dir, folder, '*.jpg'))\n",
    "    \n",
    "    # Check if images are loaded from the folder\n",
    "    if len(images) == 0:\n",
    "        print(f\"No images found in folder: {folder}\")\n",
    "        continue\n",
    "    \n",
    "    print(f\"Processing {len(images)} images in folder: {folder}\")\n",
    "    \n",
    "    # Split dataset\n",
    "    train_imgs, test_imgs = train_test_split(images, test_size=0.2, random_state=42)\n",
    "    train_imgs, val_imgs = train_test_split(train_imgs, test_size=0.25, random_state=42)  # 60% train, 20% val, 20% test\n",
    "\n",
    "    for split, imgs in zip(['train', 'val', 'test'], [train_imgs, val_imgs, test_imgs]):\n",
    "        for img_path in imgs:\n",
    "            augment = split == 'train'  # Only augment training images\n",
    "            preprocess_and_save_image(img_path, os.path.join(output_dir, split, folder), augment)\n",
    "\n",
    "print(\"Data preprocessing and augmentation complete.\")"
   ]
  }
 ],
 "metadata": {
  "kernelspec": {
   "display_name": "tf",
   "language": "python",
   "name": "python3"
  },
  "language_info": {
   "codemirror_mode": {
    "name": "ipython",
    "version": 3
   },
   "file_extension": ".py",
   "mimetype": "text/x-python",
   "name": "python",
   "nbconvert_exporter": "python",
   "pygments_lexer": "ipython3",
   "version": "3.11.7"
  }
 },
 "nbformat": 4,
 "nbformat_minor": 2
}
