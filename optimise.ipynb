{
 "cells": [
  {
   "cell_type": "markdown",
   "metadata": {},
   "source": [
    "## Converting to tflite model"
   ]
  },
  {
   "cell_type": "code",
   "execution_count": 3,
   "metadata": {},
   "outputs": [
    {
     "name": "stdout",
     "output_type": "stream",
     "text": [
      "INFO:tensorflow:Assets written to: /tmp/tmp65tqyd6z/assets\n"
     ]
    },
    {
     "name": "stderr",
     "output_type": "stream",
     "text": [
      "INFO:tensorflow:Assets written to: /tmp/tmp65tqyd6z/assets\n",
      "/home/sid/anaconda3/envs/tf/lib/python3.11/site-packages/tensorflow/lite/python/convert.py:953: UserWarning: Statistics for quantized inputs were expected, but not specified; continuing anyway.\n",
      "  warnings.warn(\n",
      "2024-10-30 16:08:17.703908: W tensorflow/compiler/mlir/lite/python/tf_tfl_flatbuffer_helpers.cc:378] Ignored output_format.\n",
      "2024-10-30 16:08:17.703954: W tensorflow/compiler/mlir/lite/python/tf_tfl_flatbuffer_helpers.cc:381] Ignored drop_control_dependency.\n",
      "2024-10-30 16:08:17.704198: I tensorflow/cc/saved_model/reader.cc:83] Reading SavedModel from: /tmp/tmp65tqyd6z\n",
      "2024-10-30 16:08:17.731693: I tensorflow/cc/saved_model/reader.cc:51] Reading meta graph with tags { serve }\n",
      "2024-10-30 16:08:17.731730: I tensorflow/cc/saved_model/reader.cc:146] Reading SavedModel debug info (if present) from: /tmp/tmp65tqyd6z\n",
      "2024-10-30 16:08:17.850461: I tensorflow/cc/saved_model/loader.cc:233] Restoring SavedModel bundle.\n",
      "2024-10-30 16:08:18.848461: I tensorflow/cc/saved_model/loader.cc:217] Running initialization op on SavedModel bundle at path: /tmp/tmp65tqyd6z\n",
      "2024-10-30 16:08:19.158696: I tensorflow/cc/saved_model/loader.cc:316] SavedModel load for tags { serve }; Status: success: OK. Took 1454498 microseconds.\n",
      "Summary on the non-converted ops:\n",
      "---------------------------------\n",
      " * Accepted dialects: tfl, builtin, func\n",
      " * Non-Converted Ops: 170, Total Ops 283, % non-converted = 60.07 %\n",
      " * 170 ARITH ops\n",
      "\n",
      "- arith.constant:  170 occurrences  (f32: 166, i32: 4)\n",
      "\n",
      "\n",
      "\n",
      "  (f32: 16)\n",
      "  (f32: 1)\n",
      "  (f32: 67)\n",
      "  (f32: 13)\n",
      "  (f32: 3)\n",
      "  (f32: 1)\n",
      "  (f32: 2)\n",
      "  (f32: 6)\n",
      "  (f32: 1)\n",
      "fully_quantize: 0, inference_type: 6, input_inference_type: UINT8, output_inference_type: UINT8\n"
     ]
    },
    {
     "name": "stdout",
     "output_type": "stream",
     "text": [
      "Model conversion successful! Optimized TFLite model is saved.\n"
     ]
    }
   ],
   "source": [
    "import tensorflow as tf\n",
    "import numpy as np\n",
    "\n",
    "# Load the trained Keras model\n",
    "model = tf.keras.models.load_model('lung_cancer_detection_model.h5')\n",
    "\n",
    "# Configure the TFLite converter and apply optimizations\n",
    "converter = tf.lite.TFLiteConverter.from_keras_model(model)\n",
    "converter.optimizations = [tf.lite.Optimize.DEFAULT]\n",
    "\n",
    "# Define the representative dataset generator for dual-input\n",
    "def representative_data_gen():\n",
    "    for _ in range(100):  # Adjust number of samples as needed\n",
    "        # Generate random data for each input\n",
    "        input1 = np.random.rand(1, 224, 224, 3).astype(np.float32)  # ResNet input shape\n",
    "        input2 = np.random.rand(1, 224, 224, 3).astype(np.float32)  # MobileNet input shape\n",
    "        yield [input1, input2]  # Yield as a list for two inputs\n",
    "\n",
    "converter.representative_dataset = representative_data_gen\n",
    "\n",
    "# Specify full integer quantization\n",
    "converter.target_spec.supported_ops = [tf.lite.OpsSet.TFLITE_BUILTINS_INT8]\n",
    "converter.inference_input_type = tf.uint8\n",
    "converter.inference_output_type = tf.uint8\n",
    "\n",
    "# Convert and save the optimized model\n",
    "tflite_model = converter.convert()\n",
    "with open(\"lung_cancer_detection_model_optimized.tflite\", \"wb\") as f:\n",
    "    f.write(tflite_model)\n",
    "\n",
    "print(\"Model conversion successful! Optimized TFLite model is saved.\")\n"
   ]
  },
  {
   "cell_type": "markdown",
   "metadata": {},
   "source": [
    "## Testing"
   ]
  },
  {
   "cell_type": "code",
   "execution_count": 1,
   "metadata": {},
   "outputs": [
    {
     "name": "stderr",
     "output_type": "stream",
     "text": [
      "2024-10-30 21:52:25.321958: I tensorflow/core/util/port.cc:113] oneDNN custom operations are on. You may see slightly different numerical results due to floating-point round-off errors from different computation orders. To turn them off, set the environment variable `TF_ENABLE_ONEDNN_OPTS=0`.\n",
      "2024-10-30 21:52:25.356111: E external/local_xla/xla/stream_executor/cuda/cuda_dnn.cc:9261] Unable to register cuDNN factory: Attempting to register factory for plugin cuDNN when one has already been registered\n",
      "2024-10-30 21:52:25.356146: E external/local_xla/xla/stream_executor/cuda/cuda_fft.cc:607] Unable to register cuFFT factory: Attempting to register factory for plugin cuFFT when one has already been registered\n",
      "2024-10-30 21:52:25.356935: E external/local_xla/xla/stream_executor/cuda/cuda_blas.cc:1515] Unable to register cuBLAS factory: Attempting to register factory for plugin cuBLAS when one has already been registered\n",
      "2024-10-30 21:52:25.362802: I tensorflow/core/platform/cpu_feature_guard.cc:182] This TensorFlow binary is optimized to use available CPU instructions in performance-critical operations.\n",
      "To enable the following instructions: AVX2 AVX512F AVX512_VNNI FMA, in other operations, rebuild TensorFlow with the appropriate compiler flags.\n",
      "2024-10-30 21:52:26.337692: W tensorflow/compiler/tf2tensorrt/utils/py_utils.cc:38] TF-TRT Warning: Could not find TensorRT\n"
     ]
    },
    {
     "name": "stdout",
     "output_type": "stream",
     "text": [
      "Predicted Label: malignant\n"
     ]
    },
    {
     "name": "stderr",
     "output_type": "stream",
     "text": [
      "INFO: Created TensorFlow Lite XNNPACK delegate for CPU.\n"
     ]
    }
   ],
   "source": [
    "import tensorflow as tf\n",
    "import numpy as np\n",
    "from PIL import Image\n",
    "\n",
    "# Load the TFLite model\n",
    "interpreter = tf.lite.Interpreter(model_path=\"lung_cancer_detection_model_optimized.tflite\")\n",
    "interpreter.allocate_tensors()\n",
    "\n",
    "# Retrieve input and output tensors\n",
    "input_details = interpreter.get_input_details()\n",
    "output_details = interpreter.get_output_details()\n",
    "\n",
    "# Define class labels\n",
    "class_labels = {0: \"benign\", 1: \"malignant\", 2: \"normal\"}  # Adjust based on your classes\n",
    "\n",
    "# Function to preprocess an image for inference\n",
    "def preprocess_image(image_path):\n",
    "    image = Image.open(image_path).resize((224, 224))\n",
    "    input_data = np.array(image, dtype=np.uint8)  # Convert to UINT8 as expected by model\n",
    "    input_data = np.expand_dims(input_data, axis=0)\n",
    "    return input_data\n",
    "\n",
    "# Load and preprocess a sample image\n",
    "sample_image = preprocess_image(\"data/train/Malignant cases/Malignant case (1)_aug_0.jpg\")\n",
    "\n",
    "# Set the input tensors (matching dual-input model structure)\n",
    "interpreter.set_tensor(input_details[0]['index'], sample_image)\n",
    "interpreter.set_tensor(input_details[1]['index'], sample_image)  # Duplicate input for dual structure\n",
    "\n",
    "# Run inference\n",
    "interpreter.invoke()\n",
    "\n",
    "# Get the output and map to class label\n",
    "output_data = interpreter.get_tensor(output_details[0]['index'])\n",
    "predicted_index = np.argmax(output_data)\n",
    "predicted_label = class_labels[predicted_index]\n",
    "print(f\"Predicted Label: {predicted_label}\")\n"
   ]
  },
  {
   "cell_type": "code",
   "execution_count": null,
   "metadata": {},
   "outputs": [],
   "source": []
  }
 ],
 "metadata": {
  "kernelspec": {
   "display_name": "tf",
   "language": "python",
   "name": "python3"
  },
  "language_info": {
   "codemirror_mode": {
    "name": "ipython",
    "version": 3
   },
   "file_extension": ".py",
   "mimetype": "text/x-python",
   "name": "python",
   "nbconvert_exporter": "python",
   "pygments_lexer": "ipython3",
   "version": "3.11.7"
  }
 },
 "nbformat": 4,
 "nbformat_minor": 2
}
